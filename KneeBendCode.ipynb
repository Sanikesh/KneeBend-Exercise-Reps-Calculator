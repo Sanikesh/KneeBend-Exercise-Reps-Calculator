{
 "cells": [
  {
   "cell_type": "code",
   "execution_count": 5,
   "id": "ce048b09",
   "metadata": {},
   "outputs": [
    {
     "name": "stdout",
     "output_type": "stream",
     "text": [
      "Requirement already satisfied: mediapipe in c:\\users\\sanik\\anaconda3\\lib\\site-packages (0.8.10)\n",
      "Requirement already satisfied: opencv-python in c:\\users\\sanik\\anaconda3\\lib\\site-packages (4.6.0.66)\n",
      "Requirement already satisfied: absl-py in c:\\users\\sanik\\anaconda3\\lib\\site-packages (from mediapipe) (1.1.0)\n",
      "Requirement already satisfied: opencv-contrib-python in c:\\users\\sanik\\anaconda3\\lib\\site-packages (from mediapipe) (4.6.0.66)\n",
      "Requirement already satisfied: numpy in c:\\users\\sanik\\anaconda3\\lib\\site-packages (from mediapipe) (1.21.5)\n",
      "Requirement already satisfied: matplotlib in c:\\users\\sanik\\anaconda3\\lib\\site-packages (from mediapipe) (3.5.1)\n",
      "Requirement already satisfied: protobuf>=3.11.4 in c:\\users\\sanik\\anaconda3\\lib\\site-packages (from mediapipe) (3.19.1)\n",
      "Requirement already satisfied: attrs>=19.1.0 in c:\\users\\sanik\\anaconda3\\lib\\site-packages (from mediapipe) (21.4.0)\n",
      "Requirement already satisfied: fonttools>=4.22.0 in c:\\users\\sanik\\anaconda3\\lib\\site-packages (from matplotlib->mediapipe) (4.25.0)\n",
      "Requirement already satisfied: cycler>=0.10 in c:\\users\\sanik\\anaconda3\\lib\\site-packages (from matplotlib->mediapipe) (0.11.0)\n",
      "Requirement already satisfied: pyparsing>=2.2.1 in c:\\users\\sanik\\anaconda3\\lib\\site-packages (from matplotlib->mediapipe) (3.0.4)\n",
      "Requirement already satisfied: kiwisolver>=1.0.1 in c:\\users\\sanik\\anaconda3\\lib\\site-packages (from matplotlib->mediapipe) (1.3.2)\n",
      "Requirement already satisfied: packaging>=20.0 in c:\\users\\sanik\\anaconda3\\lib\\site-packages (from matplotlib->mediapipe) (21.3)\n",
      "Requirement already satisfied: python-dateutil>=2.7 in c:\\users\\sanik\\anaconda3\\lib\\site-packages (from matplotlib->mediapipe) (2.8.2)\n",
      "Requirement already satisfied: pillow>=6.2.0 in c:\\users\\sanik\\anaconda3\\lib\\site-packages (from matplotlib->mediapipe) (9.0.1)\n",
      "Requirement already satisfied: six>=1.5 in c:\\users\\sanik\\anaconda3\\lib\\site-packages (from python-dateutil>=2.7->matplotlib->mediapipe) (1.16.0)\n"
     ]
    }
   ],
   "source": [
    "!pip install mediapipe opencv-python"
   ]
  },
  {
   "cell_type": "code",
   "execution_count": 1,
   "id": "7f0ff2d3",
   "metadata": {},
   "outputs": [],
   "source": [
    "import mediapipe as mp\n",
    "import numpy as np\n",
    "import time\n",
    "import cv2\n",
    "mp_drawing=mp.solutions.drawing_utils\n",
    "mp_pose=mp.solutions.pose"
   ]
  },
  {
   "cell_type": "markdown",
   "id": "039ad7cd",
   "metadata": {},
   "source": [
    "<h1>Test"
   ]
  },
  {
   "cell_type": "code",
   "execution_count": 3,
   "id": "c616a391",
   "metadata": {},
   "outputs": [],
   "source": [
    "# cap=cv2.VideoCapture('KneeBendVideo.mp4')\n",
    "# while True:\n",
    "#     ret,frame=cap.read()\n",
    "#     cv2.imshow(\"Mediapipe Feed\",frame)\n",
    "    \n",
    "#     if cv2.waitKey(25)&0xFF == ord('q'):\n",
    "#         break\n",
    "        \n",
    "# cap.release()\n",
    "# cv2.destroyAllWindows()"
   ]
  },
  {
   "cell_type": "code",
   "execution_count": 2,
   "id": "ac6aa03b",
   "metadata": {},
   "outputs": [],
   "source": [
    "# def calculate_angle(a,b,c):\n",
    "#     a=np.array(a) #First\n",
    "#     b=np.array(b) #Mid\n",
    "#     c=np.array(c) #End\n",
    "\n",
    "#     radians = np.arctan2(c[1]-b[1],c[0]-b[0])- np.arctan2(a[1]-b[1],a[0]-b[0])\n",
    "#     angle=np.abs(radians*180.0/np.pi)\n",
    "\n",
    "#     if angle>180.0:\n",
    "#         angle=360-angle\n",
    "    \n",
    "#     return angle"
   ]
  },
  {
   "cell_type": "code",
   "execution_count": 33,
   "id": "113abe68",
   "metadata": {},
   "outputs": [],
   "source": [
    "import mediapipe as mp\n",
    "import numpy as np\n",
    "import cv2\n",
    "import time\n",
    "\n",
    "mp_drawing=mp.solutions.drawing_utils\n",
    "mp_pose=mp.solutions.pose\n",
    "\n",
    "\n",
    "def calculate_angle(a, b, c):\n",
    "    a = np.array(a)  # First\n",
    "    b = np.array(b)  # Mid\n",
    "    c = np.array(c)  # End\n",
    "\n",
    "    radians = np.arctan2(c[1] - b[1], c[0] - b[0]) - np.arctan2(a[1] - b[1], a[0] - b[0])\n",
    "    angle = np.abs(radians * 180.0 / np.pi)\n",
    "\n",
    "    if angle > 180.0:\n",
    "        angle = 360 - angle\n",
    "\n",
    "    return angle\n",
    "\n",
    "\n",
    "cap = cv2.VideoCapture('KneeBendVideo.mp4')\n",
    "\n",
    "stage = None\n",
    "start=0\n",
    "end=0\n",
    "timeTaken=0\n",
    "prevtimeTaken=0\n",
    "flag=False\n",
    "rep=0\n",
    "k=1\n",
    "\n",
    "# Setup Mediapipe Instance\n",
    "with mp_pose.Pose(min_detection_confidence=0.8, min_tracking_confidence=0.8) as pose:\n",
    "    while cap.isOpened():\n",
    "        ret, frame = cap.read()\n",
    "\n",
    "        # Recolor image to RGB\n",
    "        image = cv2.cvtColor(frame, cv2.COLOR_BGR2RGB)\n",
    "        # image.flags.writeable=False\n",
    "\n",
    "        # Make Detection\n",
    "        results = pose.process(image)\n",
    "\n",
    "        # Recolor to BGR\n",
    "        # image.flags.writeable=True\n",
    "        image = cv2.cvtColor(image, cv2.COLOR_RGB2BGR)\n",
    "\n",
    "        # Extract Landmarks\n",
    "        try:\n",
    "            landmarks = results.pose_landmarks.landmark\n",
    "\n",
    "            # Get Coordinates\n",
    "            hip = [landmarks[mp_pose.PoseLandmark.LEFT_HIP.value].x, landmarks[mp_pose.PoseLandmark.LEFT_HIP.value].y]\n",
    "            knee = [landmarks[mp_pose.PoseLandmark.LEFT_KNEE.value].x,\n",
    "                    landmarks[mp_pose.PoseLandmark.LEFT_KNEE.value].y]\n",
    "            ankle = [landmarks[mp_pose.PoseLandmark.LEFT_ANKLE.value].x,\n",
    "                     landmarks[mp_pose.PoseLandmark.LEFT_ANKLE.value].y]\n",
    "\n",
    "            # Calculate Angle\n",
    "            angle = calculate_angle(hip, knee, ankle)\n",
    "\n",
    "            # Visualize Angle\n",
    "            cv2.putText(image, str(angle),\n",
    "                        tuple(np.multiply(knee, [854, 640]).astype(int)),\n",
    "                        cv2.FONT_HERSHEY_COMPLEX, 0.5, (0, 0, 0), 1, cv2.LINE_AA)\n",
    "\n",
    "            # print(landmarks)\n",
    "\n",
    "\n",
    "            if angle < 140:\n",
    "                end = time.time()\n",
    "                k=1\n",
    "                if start > 0:\n",
    "                    timeTaken = end-start\n",
    "                else:\n",
    "                    pass\n",
    "            if angle > 140:\n",
    "                if timeTaken<8 and k==0:\n",
    "                    cv2.putText(image, 'Keep Your Knee Bent', (60, 60), cv2.FONT_HERSHEY_SIMPLEX, 2, (255, 255, 255), 2, cv2.LINE_AA)\n",
    "                flag=True\n",
    "                k=1\n",
    "                timeTaken=0\n",
    "                start = time.time()\n",
    "\n",
    "            if timeTaken > 8 and flag:\n",
    "                start = time.time()\n",
    "                rep+=1\n",
    "                flag=False\n",
    "            elif flag==False:\n",
    "                k=0        \n",
    "        except:\n",
    "            pass\n",
    "\n",
    "        cv2.rectangle(image, (0, 0), (175, 73), (245, 117, 16), -1)\n",
    "\n",
    "        # Rep Data\n",
    "        cv2.putText(image,'REPS',(15,12),cv2.FONT_HERSHEY_SIMPLEX,0.5,(0,0,0),1,cv2.LINE_AA)\n",
    "        cv2.putText(image,str(rep),(10,60),cv2.FONT_HERSHEY_SIMPLEX,2,(255,255,255),2,cv2.LINE_AA)\n",
    "\n",
    "        #if k==0:\n",
    "            # cv2.putText(image, 'Keep Your Knee Bent', (60, 60), cv2.FONT_HERSHEY_SIMPLEX, 2, (255, 255, 255), 2, cv2.LINE_AA)\n",
    "\n",
    "        # Render Detections\n",
    "        mp_drawing.draw_landmarks(image, results.pose_landmarks, mp_pose.POSE_CONNECTIONS,\n",
    "                                  mp_drawing.DrawingSpec(color=(245, 117, 66), thickness=2, circle_radius=2),\n",
    "                                  mp_drawing.DrawingSpec(color=(255, 255, 255), thickness=2, circle_radius=2))\n",
    "\n",
    "        cv2.imshow(\"Mediapipe Feed\", image)\n",
    "\n",
    "        if cv2.waitKey(25) & 0xFF == ord('q'):\n",
    "            break\n",
    "\n",
    "    cap.release()\n",
    "    cv2.destroyAllWindows()"
   ]
  },
  {
   "cell_type": "code",
   "execution_count": 30,
   "id": "5777bbd2",
   "metadata": {},
   "outputs": [
    {
     "name": "stdout",
     "output_type": "stream",
     "text": [
      "2\n"
     ]
    },
    {
     "ename": "KeyboardInterrupt",
     "evalue": "",
     "output_type": "error",
     "traceback": [
      "\u001b[1;31m---------------------------------------------------------------------------\u001b[0m",
      "\u001b[1;31mKeyboardInterrupt\u001b[0m                         Traceback (most recent call last)",
      "\u001b[1;32mc:\\Users\\sanik\\Documents\\pose Detection\\Pose.ipynb Cell 7'\u001b[0m in \u001b[0;36m<cell line: 4>\u001b[1;34m()\u001b[0m\n\u001b[0;32m      <a href='vscode-notebook-cell:/c%3A/Users/sanik/Documents/pose%20Detection/Pose.ipynb#ch0000006?line=0'>1</a>\u001b[0m start\u001b[39m=\u001b[39mtime\u001b[39m.\u001b[39mtime()\n\u001b[0;32m      <a href='vscode-notebook-cell:/c%3A/Users/sanik/Documents/pose%20Detection/Pose.ipynb#ch0000006?line=2'>3</a>\u001b[0m \u001b[39mwhile\u001b[39;00m \u001b[39mTrue\u001b[39;00m:\n\u001b[1;32m----> <a href='vscode-notebook-cell:/c%3A/Users/sanik/Documents/pose%20Detection/Pose.ipynb#ch0000006?line=3'>4</a>\u001b[0m     \u001b[39mif\u001b[39;00m time\u001b[39m.\u001b[39mtime()\u001b[39m-\u001b[39mstart\u001b[39m>\u001b[39m\u001b[39m=\u001b[39m\u001b[39m8\u001b[39m:\n\u001b[0;32m      <a href='vscode-notebook-cell:/c%3A/Users/sanik/Documents/pose%20Detection/Pose.ipynb#ch0000006?line=4'>5</a>\u001b[0m         \u001b[39mprint\u001b[39m(\u001b[39m2\u001b[39m)\n\u001b[0;32m      <a href='vscode-notebook-cell:/c%3A/Users/sanik/Documents/pose%20Detection/Pose.ipynb#ch0000006?line=5'>6</a>\u001b[0m         start\u001b[39m=\u001b[39mtime\u001b[39m.\u001b[39mtime()\n",
      "\u001b[1;31mKeyboardInterrupt\u001b[0m: "
     ]
    }
   ],
   "source": [
    "\n",
    "\n",
    "start=time.time()\n",
    "\n",
    "while True:\n",
    "    if time.time()-start>=8:\n",
    "        print(2)\n",
    "        start=time.time()"
   ]
  },
  {
   "cell_type": "code",
   "execution_count": null,
   "id": "0aaa8e42",
   "metadata": {},
   "outputs": [],
   "source": []
  }
 ],
 "metadata": {
  "interpreter": {
   "hash": "96782bd575ad0424c0d611af9461621d23be6198ead70167e61f467432129bdd"
  },
  "kernelspec": {
   "display_name": "Python 3 (ipykernel)",
   "language": "python",
   "name": "python3"
  },
  "language_info": {
   "codemirror_mode": {
    "name": "ipython",
    "version": 3
   },
   "file_extension": ".py",
   "mimetype": "text/x-python",
   "name": "python",
   "nbconvert_exporter": "python",
   "pygments_lexer": "ipython3",
   "version": "3.9.12"
  },
  "vscode": {
   "interpreter": {
    "hash": "ecfcb49b29251172588a6b83e274e6976475d2c4e5162799cab30356700be67a"
   }
  }
 },
 "nbformat": 4,
 "nbformat_minor": 5
}
